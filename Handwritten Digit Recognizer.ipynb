{
 "cells": [
  {
   "cell_type": "markdown",
   "metadata": {},
   "source": [
    "# Degiti Recognizer (MNIST data)\n",
    "*Mona Vahdat*"
   ]
  },
  {
   "cell_type": "markdown",
   "metadata": {},
   "source": [
    "# Part 1"
   ]
  },
  {
   "cell_type": "markdown",
   "metadata": {},
   "source": [
    "* Preprocess the data.\n",
    "* Visualize one element from each class.\n",
    "* Visualize the mean of each class."
   ]
  },
  {
   "cell_type": "code",
   "execution_count": 1,
   "metadata": {},
   "outputs": [],
   "source": [
    "import numpy as np\n",
    "import pandas as pd\n",
    "import matplotlib.pyplot as plt\n",
    "%matplotlib inline\n",
    "\n",
    "#import warnings\n",
    "#warnings.filterwarnings(\"ignore\", category=FutureWarning)"
   ]
  },
  {
   "cell_type": "code",
   "execution_count": 2,
   "metadata": {},
   "outputs": [],
   "source": [
    "import numpy as np\n",
    "from sklearn.model_selection import train_test_split\n",
    "\n",
    "# This is the downloaded CSV file. Load it in.\n",
    "mnist_csv = np.genfromtxt(\"mnist_data.csv\", delimiter=\",\")\n",
    "mnist_df = pd.DataFrame(mnist_csv)\n",
    "# Split into features and target\n",
    "X = mnist_csv[:, :-1]\n",
    "y = mnist_csv[:, -1]\n",
    "\n",
    "# Split into training & test sets\n",
    "X_train, X_test, y_train, y_test = train_test_split(X, y, test_size=0.4, stratify = y)"
   ]
  },
  {
   "cell_type": "code",
   "execution_count": 3,
   "metadata": {},
   "outputs": [
    {
     "data": {
      "text/html": [
       "<div>\n",
       "<style scoped>\n",
       "    .dataframe tbody tr th:only-of-type {\n",
       "        vertical-align: middle;\n",
       "    }\n",
       "\n",
       "    .dataframe tbody tr th {\n",
       "        vertical-align: top;\n",
       "    }\n",
       "\n",
       "    .dataframe thead th {\n",
       "        text-align: right;\n",
       "    }\n",
       "</style>\n",
       "<table border=\"1\" class=\"dataframe\">\n",
       "  <thead>\n",
       "    <tr style=\"text-align: right;\">\n",
       "      <th></th>\n",
       "      <th>0</th>\n",
       "      <th>1</th>\n",
       "      <th>2</th>\n",
       "      <th>3</th>\n",
       "      <th>4</th>\n",
       "      <th>5</th>\n",
       "      <th>6</th>\n",
       "      <th>7</th>\n",
       "      <th>8</th>\n",
       "      <th>9</th>\n",
       "      <th>...</th>\n",
       "      <th>775</th>\n",
       "      <th>776</th>\n",
       "      <th>777</th>\n",
       "      <th>778</th>\n",
       "      <th>779</th>\n",
       "      <th>780</th>\n",
       "      <th>781</th>\n",
       "      <th>782</th>\n",
       "      <th>783</th>\n",
       "      <th>784</th>\n",
       "    </tr>\n",
       "  </thead>\n",
       "  <tbody>\n",
       "    <tr>\n",
       "      <td>0</td>\n",
       "      <td>0.0</td>\n",
       "      <td>0.0</td>\n",
       "      <td>0.0</td>\n",
       "      <td>0.0</td>\n",
       "      <td>0.0</td>\n",
       "      <td>0.0</td>\n",
       "      <td>0.0</td>\n",
       "      <td>0.0</td>\n",
       "      <td>0.0</td>\n",
       "      <td>0.0</td>\n",
       "      <td>...</td>\n",
       "      <td>0.0</td>\n",
       "      <td>0.0</td>\n",
       "      <td>0.0</td>\n",
       "      <td>0.0</td>\n",
       "      <td>0.0</td>\n",
       "      <td>0.0</td>\n",
       "      <td>0.0</td>\n",
       "      <td>0.0</td>\n",
       "      <td>0.0</td>\n",
       "      <td>0.0</td>\n",
       "    </tr>\n",
       "    <tr>\n",
       "      <td>1</td>\n",
       "      <td>0.0</td>\n",
       "      <td>0.0</td>\n",
       "      <td>0.0</td>\n",
       "      <td>0.0</td>\n",
       "      <td>0.0</td>\n",
       "      <td>0.0</td>\n",
       "      <td>0.0</td>\n",
       "      <td>0.0</td>\n",
       "      <td>0.0</td>\n",
       "      <td>0.0</td>\n",
       "      <td>...</td>\n",
       "      <td>0.0</td>\n",
       "      <td>0.0</td>\n",
       "      <td>0.0</td>\n",
       "      <td>0.0</td>\n",
       "      <td>0.0</td>\n",
       "      <td>0.0</td>\n",
       "      <td>0.0</td>\n",
       "      <td>0.0</td>\n",
       "      <td>0.0</td>\n",
       "      <td>5.0</td>\n",
       "    </tr>\n",
       "    <tr>\n",
       "      <td>2</td>\n",
       "      <td>0.0</td>\n",
       "      <td>0.0</td>\n",
       "      <td>0.0</td>\n",
       "      <td>0.0</td>\n",
       "      <td>0.0</td>\n",
       "      <td>0.0</td>\n",
       "      <td>0.0</td>\n",
       "      <td>0.0</td>\n",
       "      <td>0.0</td>\n",
       "      <td>0.0</td>\n",
       "      <td>...</td>\n",
       "      <td>0.0</td>\n",
       "      <td>0.0</td>\n",
       "      <td>0.0</td>\n",
       "      <td>0.0</td>\n",
       "      <td>0.0</td>\n",
       "      <td>0.0</td>\n",
       "      <td>0.0</td>\n",
       "      <td>0.0</td>\n",
       "      <td>0.0</td>\n",
       "      <td>3.0</td>\n",
       "    </tr>\n",
       "    <tr>\n",
       "      <td>3</td>\n",
       "      <td>0.0</td>\n",
       "      <td>0.0</td>\n",
       "      <td>0.0</td>\n",
       "      <td>0.0</td>\n",
       "      <td>0.0</td>\n",
       "      <td>0.0</td>\n",
       "      <td>0.0</td>\n",
       "      <td>0.0</td>\n",
       "      <td>0.0</td>\n",
       "      <td>0.0</td>\n",
       "      <td>...</td>\n",
       "      <td>0.0</td>\n",
       "      <td>0.0</td>\n",
       "      <td>0.0</td>\n",
       "      <td>0.0</td>\n",
       "      <td>0.0</td>\n",
       "      <td>0.0</td>\n",
       "      <td>0.0</td>\n",
       "      <td>0.0</td>\n",
       "      <td>0.0</td>\n",
       "      <td>7.0</td>\n",
       "    </tr>\n",
       "    <tr>\n",
       "      <td>4</td>\n",
       "      <td>0.0</td>\n",
       "      <td>0.0</td>\n",
       "      <td>0.0</td>\n",
       "      <td>0.0</td>\n",
       "      <td>0.0</td>\n",
       "      <td>0.0</td>\n",
       "      <td>0.0</td>\n",
       "      <td>0.0</td>\n",
       "      <td>0.0</td>\n",
       "      <td>0.0</td>\n",
       "      <td>...</td>\n",
       "      <td>0.0</td>\n",
       "      <td>0.0</td>\n",
       "      <td>0.0</td>\n",
       "      <td>0.0</td>\n",
       "      <td>0.0</td>\n",
       "      <td>0.0</td>\n",
       "      <td>0.0</td>\n",
       "      <td>0.0</td>\n",
       "      <td>0.0</td>\n",
       "      <td>8.0</td>\n",
       "    </tr>\n",
       "  </tbody>\n",
       "</table>\n",
       "<p>5 rows × 785 columns</p>\n",
       "</div>"
      ],
      "text/plain": [
       "   0    1    2    3    4    5    6    7    8    9    ...  775  776  777  778  \\\n",
       "0  0.0  0.0  0.0  0.0  0.0  0.0  0.0  0.0  0.0  0.0  ...  0.0  0.0  0.0  0.0   \n",
       "1  0.0  0.0  0.0  0.0  0.0  0.0  0.0  0.0  0.0  0.0  ...  0.0  0.0  0.0  0.0   \n",
       "2  0.0  0.0  0.0  0.0  0.0  0.0  0.0  0.0  0.0  0.0  ...  0.0  0.0  0.0  0.0   \n",
       "3  0.0  0.0  0.0  0.0  0.0  0.0  0.0  0.0  0.0  0.0  ...  0.0  0.0  0.0  0.0   \n",
       "4  0.0  0.0  0.0  0.0  0.0  0.0  0.0  0.0  0.0  0.0  ...  0.0  0.0  0.0  0.0   \n",
       "\n",
       "   779  780  781  782  783  784  \n",
       "0  0.0  0.0  0.0  0.0  0.0  0.0  \n",
       "1  0.0  0.0  0.0  0.0  0.0  5.0  \n",
       "2  0.0  0.0  0.0  0.0  0.0  3.0  \n",
       "3  0.0  0.0  0.0  0.0  0.0  7.0  \n",
       "4  0.0  0.0  0.0  0.0  0.0  8.0  \n",
       "\n",
       "[5 rows x 785 columns]"
      ]
     },
     "execution_count": 3,
     "metadata": {},
     "output_type": "execute_result"
    }
   ],
   "source": [
    "mnist_df.head()"
   ]
  },
  {
   "cell_type": "code",
   "execution_count": 4,
   "metadata": {},
   "outputs": [
    {
     "data": {
      "text/plain": [
       "(35000, 785)"
      ]
     },
     "execution_count": 4,
     "metadata": {},
     "output_type": "execute_result"
    }
   ],
   "source": [
    "mnist_df.shape "
   ]
  },
  {
   "cell_type": "code",
   "execution_count": 5,
   "metadata": {},
   "outputs": [
    {
     "data": {
      "text/plain": [
       "0"
      ]
     },
     "execution_count": 5,
     "metadata": {},
     "output_type": "execute_result"
    }
   ],
   "source": [
    "np.isnan(mnist_csv).sum() # there is no NAN value in our dataset"
   ]
  },
  {
   "cell_type": "code",
   "execution_count": 6,
   "metadata": {},
   "outputs": [
    {
     "data": {
      "image/png": "[encoded data removed]",
      "text/plain": [
       "<Figure size 432x288 with 10 Axes>"
      ]
     },
     "metadata": {
      "needs_background": "light"
     },
     "output_type": "display_data"
    }
   ],
   "source": [
    "for i in range(10):\n",
    "    df = mnist_df.loc[mnist_df[784] == i]\n",
    "    img = df.iloc[0,:-1].values.reshape(28,28)\n",
    "    plt.subplot(2, 5, i+1)\n",
    "    plt.imshow(img, cmap='gray_r')\n"
   ]
  },
  {
   "cell_type": "code",
   "execution_count": 7,
   "metadata": {},
   "outputs": [
    {
     "data": {
      "image/png": "[encoded data removed]",
      "text/plain": [
       "<Figure size 432x288 with 10 Axes>"
      ]
     },
     "metadata": {
      "needs_background": "light"
     },
     "output_type": "display_data"
    }
   ],
   "source": [
    "for i in range(10):\n",
    "    df = mnist_df.loc[mnist_df[784] == i]\n",
    "    df = df.iloc[:, :-1]\n",
    "    img = df.mean().values.reshape(28,28)\n",
    "    plt.subplot(2, 5, i+1)\n",
    "    plt.imshow(img, cmap='gray_r')"
   ]
  },
  {
   "cell_type": "markdown",
   "metadata": {},
   "source": [
    "# Part 2"
   ]
  },
  {
   "cell_type": "markdown",
   "metadata": {},
   "source": [
    "## Fit a logistic regression model to this data with its solver set to be the 'lbfgs' algorithm."
   ]
  },
  {
   "cell_type": "code",
   "execution_count": 8,
   "metadata": {},
   "outputs": [],
   "source": [
    "from sklearn.linear_model import LogisticRegression"
   ]
  },
  {
   "cell_type": "code",
   "execution_count": 9,
   "metadata": {},
   "outputs": [
    {
     "name": "stdout",
     "output_type": "stream",
     "text": [
      "The accuracy on the training data points with logistic regression  0.9748095238095238\n",
      "The accuracy on the training data points with logistic regression  0.8716428571428572\n"
     ]
    },
    {
     "name": "stderr",
     "output_type": "stream",
     "text": [
      "C:\\Users\\User\\Anaconda3\\lib\\site-packages\\sklearn\\linear_model\\logistic.py:947: ConvergenceWarning: lbfgs failed to converge. Increase the number of iterations.\n",
      "  \"of iterations.\", ConvergenceWarning)\n"
     ]
    }
   ],
   "source": [
    "lr_model = LogisticRegression(solver='lbfgs', multi_class='auto', max_iter = 1000, penalty='l2')\n",
    "lr_model.fit(X_train, y_train)\n",
    "\n",
    "train_score = lr_model.score(X_train, y_train)\n",
    "test_score = lr_model.score(X_test, y_test)\n",
    "\n",
    "print(\"The accuracy on the training data points with logistic regression \", train_score)\n",
    "print(\"The accuracy on the training data points with logistic regression \", test_score)"
   ]
  },
  {
   "cell_type": "markdown",
   "metadata": {},
   "source": [
    "## Reduction of Dimensionality\n",
    ">Reduce the dimensionality of your data using Principal Component Analysis."
   ]
  },
  {
   "cell_type": "code",
   "execution_count": 10,
   "metadata": {},
   "outputs": [],
   "source": [
    "from sklearn.decomposition import PCA"
   ]
  },
  {
   "cell_type": "code",
   "execution_count": 11,
   "metadata": {},
   "outputs": [
    {
     "data": {
      "image/png": "[encoded data removed]",
      "text/plain": [
       "<Figure size 432x288 with 1 Axes>"
      ]
     },
     "metadata": {
      "needs_background": "light"
     },
     "output_type": "display_data"
    }
   ],
   "source": [
    "#Fitting the PCA algorithm with our Data\n",
    "pca_model = PCA().fit(X_train)\n",
    "#Plotting the Cumulative Summation of the Explained Variance\n",
    "plt.figure()\n",
    "plt.plot(np.cumsum(pca_model.explained_variance_ratio_))\n",
    "plt.xlabel('Number of Components')\n",
    "plt.ylabel('Variance (%)') #for each component\n",
    "plt.axvline(x=100, c = 'red')\n",
    "plt.axhline(y=0.92, c = 'black')\n",
    "plt.grid()\n",
    "plt.show()\n"
   ]
  },
  {
   "cell_type": "markdown",
   "metadata": {},
   "source": [
    ">This plot shows that with selecting 100 components, we can get more than 90% of the total variance of the training data. We want only the more important ones because if we use 100% of our variance, it shows all components. So, we are going to set our components by 300."
   ]
  },
  {
   "cell_type": "code",
   "execution_count": 12,
   "metadata": {},
   "outputs": [],
   "source": [
    "pca_model = PCA(n_components = 100).fit(X_train)\n",
    "X_train_new = pca_model.transform(X_train)\n",
    "X_test_new = pca_model.transform(X_test)"
   ]
  },
  {
   "cell_type": "markdown",
   "metadata": {},
   "source": [
    "> Now we train our model with logistic regression again using new train and test data points which are trained with PCA:"
   ]
  },
  {
   "cell_type": "code",
   "execution_count": 13,
   "metadata": {},
   "outputs": [
    {
     "name": "stdout",
     "output_type": "stream",
     "text": [
      "The accuracy on the training data points with logistic regression using PCA 0.926047619047619\n",
      "The accuracy on the testing data points with logistic regression using PCA 0.9117857142857143\n"
     ]
    },
    {
     "name": "stderr",
     "output_type": "stream",
     "text": [
      "C:\\Users\\User\\Anaconda3\\lib\\site-packages\\sklearn\\linear_model\\logistic.py:947: ConvergenceWarning: lbfgs failed to converge. Increase the number of iterations.\n",
      "  \"of iterations.\", ConvergenceWarning)\n"
     ]
    }
   ],
   "source": [
    "lr_model = LogisticRegression(solver='lbfgs', multi_class='auto', max_iter = 1000, penalty='l2')\n",
    "\n",
    "lr_model.fit(X_train_new, y_train)\n",
    "\n",
    "train_score = lr_model.score(X_train_new, y_train)\n",
    "test_score = lr_model.score(X_test_new, y_test)\n",
    "\n",
    "print(\"The accuracy on the training data points with logistic regression using PCA\", train_score)\n",
    "print(\"The accuracy on the testing data points with logistic regression using PCA\", test_score)"
   ]
  },
  {
   "cell_type": "markdown",
   "metadata": {},
   "source": [
    "## Computation Time\n",
    ">What does reducing the dimensionality do to the computation time and why? What does reducing the number of data points do to the computation time and why?"
   ]
  },
  {
   "cell_type": "markdown",
   "metadata": {},
   "source": [
    "> To come up with this question first let's have some different values for our components randomly, then see the ralation between computation timing and the number of components:"
   ]
  },
  {
   "cell_type": "code",
   "execution_count": 14,
   "metadata": {},
   "outputs": [],
   "source": [
    "import time"
   ]
  },
  {
   "cell_type": "code",
   "execution_count": 15,
   "metadata": {},
   "outputs": [
    {
     "name": "stderr",
     "output_type": "stream",
     "text": [
      "C:\\Users\\User\\Anaconda3\\lib\\site-packages\\sklearn\\linear_model\\logistic.py:947: ConvergenceWarning: lbfgs failed to converge. Increase the number of iterations.\n",
      "  \"of iterations.\", ConvergenceWarning)\n",
      "C:\\Users\\User\\Anaconda3\\lib\\site-packages\\sklearn\\linear_model\\logistic.py:947: ConvergenceWarning: lbfgs failed to converge. Increase the number of iterations.\n",
      "  \"of iterations.\", ConvergenceWarning)\n",
      "C:\\Users\\User\\Anaconda3\\lib\\site-packages\\sklearn\\linear_model\\logistic.py:947: ConvergenceWarning: lbfgs failed to converge. Increase the number of iterations.\n",
      "  \"of iterations.\", ConvergenceWarning)\n",
      "C:\\Users\\User\\Anaconda3\\lib\\site-packages\\sklearn\\linear_model\\logistic.py:947: ConvergenceWarning: lbfgs failed to converge. Increase the number of iterations.\n",
      "  \"of iterations.\", ConvergenceWarning)\n",
      "C:\\Users\\User\\Anaconda3\\lib\\site-packages\\sklearn\\linear_model\\logistic.py:947: ConvergenceWarning: lbfgs failed to converge. Increase the number of iterations.\n",
      "  \"of iterations.\", ConvergenceWarning)\n",
      "C:\\Users\\User\\Anaconda3\\lib\\site-packages\\sklearn\\linear_model\\logistic.py:947: ConvergenceWarning: lbfgs failed to converge. Increase the number of iterations.\n",
      "  \"of iterations.\", ConvergenceWarning)\n",
      "C:\\Users\\User\\Anaconda3\\lib\\site-packages\\sklearn\\linear_model\\logistic.py:947: ConvergenceWarning: lbfgs failed to converge. Increase the number of iterations.\n",
      "  \"of iterations.\", ConvergenceWarning)\n",
      "C:\\Users\\User\\Anaconda3\\lib\\site-packages\\sklearn\\linear_model\\logistic.py:947: ConvergenceWarning: lbfgs failed to converge. Increase the number of iterations.\n",
      "  \"of iterations.\", ConvergenceWarning)\n"
     ]
    }
   ],
   "source": [
    "components = [1, 50, 100, 200, 300, 400, 500, 600, 700]\n",
    "total_time = []\n",
    "train_accuracy = []\n",
    "test_accuracy = []\n",
    "\n",
    "for component in components:\n",
    "    pca_model = PCA(n_components = component).fit(X_train)\n",
    "    X_train_new = pca_model.transform(X_train)\n",
    "    X_test_new = pca_model.transform(X_test)\n",
    "\n",
    "    start_time = time.time()\n",
    "    lr_model = LogisticRegression(solver='lbfgs', multi_class='auto', max_iter = 1000, penalty='l2')\n",
    "\n",
    "    lr_model.fit(X_train_new, y_train)\n",
    "\n",
    "    end_time = time.time()\n",
    "    total_time.append(end_time - start_time) \n",
    "    train_accuracy.append(lr_model.score(X_train_new, y_train))\n",
    "    test_accuracy.append(lr_model.score(X_test_new, y_test))\n",
    "    "
   ]
  },
  {
   "cell_type": "code",
   "execution_count": 16,
   "metadata": {},
   "outputs": [
    {
     "data": {
      "image/png": "[encoded data removed]",
      "text/plain": [
       "<Figure size 432x288 with 1 Axes>"
      ]
     },
     "metadata": {
      "needs_background": "light"
     },
     "output_type": "display_data"
    }
   ],
   "source": [
    "plt.figure()\n",
    "plt.plot(components, total_time)\n",
    "plt.title('the relation between number of components in PCA with the execution time (s)')\n",
    "plt.xlabel('time (s)')\n",
    "plt.ylabel('n_components')\n",
    "plt.grid()\n",
    "plt.show()"
   ]
  },
  {
   "cell_type": "markdown",
   "metadata": {},
   "source": [
    ">From above, we can see by decreasing the dimnesional of the dataset, we saw a decreament in the computation time. But, we should consider that by reducing the range of our training data points, we may loose some other data points that may had been not outliers. So, as a result it may affect our model in terms of the accuracy. Now, let's see what is the relation between the number components and the accuracy:"
   ]
  },
  {
   "cell_type": "code",
   "execution_count": 17,
   "metadata": {},
   "outputs": [
    {
     "data": {
      "image/png": "[encoded data removed]",
      "text/plain": [
       "<Figure size 432x288 with 1 Axes>"
      ]
     },
     "metadata": {
      "needs_background": "light"
     },
     "output_type": "display_data"
    }
   ],
   "source": [
    "plt.figure()\n",
    "plt.plot(components, train_accuracy, label = 'Training points', marker = '*')\n",
    "plt.plot(components, test_accuracy, label = 'Testing points', marker = '*')\n",
    "plt.title('Relation between the number of components and the accuracy')\n",
    "plt.xlabel('number of components')\n",
    "plt.ylabel('accuracy')\n",
    "plt.grid()\n",
    "plt.legend()\n",
    "plt.show()"
   ]
  },
  {
   "cell_type": "markdown",
   "metadata": {},
   "source": [
    "> We can see from above that by increasing the numebr of components, we get more in accuracy. As we found that with having 100 components for training our model using PCA we get the mostly better accuracy, we can say that this graph illustrates the same thing that we concluded."
   ]
  },
  {
   "cell_type": "markdown",
   "metadata": {},
   "source": [
    "> Now let's look at the relation between the amount of data points and the computation time. To do this, we are going to split our training data points in some different sizes from 10% to 90% of the data points."
   ]
  },
  {
   "cell_type": "code",
   "execution_count": 18,
   "metadata": {},
   "outputs": [
    {
     "name": "stderr",
     "output_type": "stream",
     "text": [
      "C:\\Users\\User\\Anaconda3\\lib\\site-packages\\sklearn\\linear_model\\logistic.py:947: ConvergenceWarning: lbfgs failed to converge. Increase the number of iterations.\n",
      "  \"of iterations.\", ConvergenceWarning)\n",
      "C:\\Users\\User\\Anaconda3\\lib\\site-packages\\sklearn\\linear_model\\logistic.py:947: ConvergenceWarning: lbfgs failed to converge. Increase the number of iterations.\n",
      "  \"of iterations.\", ConvergenceWarning)\n",
      "C:\\Users\\User\\Anaconda3\\lib\\site-packages\\sklearn\\linear_model\\logistic.py:947: ConvergenceWarning: lbfgs failed to converge. Increase the number of iterations.\n",
      "  \"of iterations.\", ConvergenceWarning)\n",
      "C:\\Users\\User\\Anaconda3\\lib\\site-packages\\sklearn\\linear_model\\logistic.py:947: ConvergenceWarning: lbfgs failed to converge. Increase the number of iterations.\n",
      "  \"of iterations.\", ConvergenceWarning)\n",
      "C:\\Users\\User\\Anaconda3\\lib\\site-packages\\sklearn\\linear_model\\logistic.py:947: ConvergenceWarning: lbfgs failed to converge. Increase the number of iterations.\n",
      "  \"of iterations.\", ConvergenceWarning)\n",
      "C:\\Users\\User\\Anaconda3\\lib\\site-packages\\sklearn\\linear_model\\logistic.py:947: ConvergenceWarning: lbfgs failed to converge. Increase the number of iterations.\n",
      "  \"of iterations.\", ConvergenceWarning)\n",
      "C:\\Users\\User\\Anaconda3\\lib\\site-packages\\sklearn\\linear_model\\logistic.py:947: ConvergenceWarning: lbfgs failed to converge. Increase the number of iterations.\n",
      "  \"of iterations.\", ConvergenceWarning)\n",
      "C:\\Users\\User\\Anaconda3\\lib\\site-packages\\sklearn\\linear_model\\logistic.py:947: ConvergenceWarning: lbfgs failed to converge. Increase the number of iterations.\n",
      "  \"of iterations.\", ConvergenceWarning)\n",
      "C:\\Users\\User\\Anaconda3\\lib\\site-packages\\sklearn\\linear_model\\logistic.py:947: ConvergenceWarning: lbfgs failed to converge. Increase the number of iterations.\n",
      "  \"of iterations.\", ConvergenceWarning)\n"
     ]
    }
   ],
   "source": [
    "size_of_training_data_points = [0.1, 0.2, 0.3, 0.4, 0.5, 0.6, 0.7, 0.8, 0.9]\n",
    "total_time = []\n",
    "total_size = []\n",
    "train_accuracy = []\n",
    "test_accuracy = []\n",
    "\n",
    "for size in size_of_training_data_points:\n",
    "# reduce the amount of data points (rows)\n",
    "    i = int(X.shape[0] * size) \n",
    "    X_new = mnist_csv[:i, :-1]\n",
    "    y_new = mnist_csv[:i, -1]\n",
    "    \n",
    "    X_train, X_test, y_train, y_test = train_test_split(X_new, y_new, test_size=0.4, stratify = y_new)\n",
    "\n",
    "\n",
    "    pca_model = PCA(n_components = 100).fit(X_train)\n",
    "    X_train_new = pca_model.transform(X_train)\n",
    "    X_test_new = pca_model.transform(X_test)\n",
    "    \n",
    "    start_time = time.time()\n",
    "    lr_model = LogisticRegression(solver='lbfgs', multi_class='auto', max_iter = 1000, penalty='l2')\n",
    "\n",
    "    lr_model.fit(X_train_new, y_train)\n",
    "\n",
    "    end_time = time.time()\n",
    "    train_accuracy.append(lr_model.score(X_train_new, y_train))\n",
    "    test_accuracy.append(lr_model.score(X_test_new, y_test))\n",
    "    total_time.append(end_time - start_time) \n",
    "    total_size.append(i)\n",
    "\n"
   ]
  },
  {
   "cell_type": "code",
   "execution_count": 19,
   "metadata": {},
   "outputs": [
    {
     "data": {
      "image/png": "[encoded data removed]",
      "text/plain": [
       "<Figure size 432x288 with 1 Axes>"
      ]
     },
     "metadata": {
      "needs_background": "light"
     },
     "output_type": "display_data"
    }
   ],
   "source": [
    "plt.figure()\n",
    "plt.plot(total_size, total_time)\n",
    "plt.title('relation between the amount of data points and computation time (s)')\n",
    "plt.xlabel('number of data points')\n",
    "plt.ylabel('time (s)')\n",
    "plt.grid()\n",
    "plt.show()"
   ]
  },
  {
   "cell_type": "markdown",
   "metadata": {},
   "source": [
    ">The graph above shows by decreasing the number of data points, the computation time decreased too, that is expected because the more data points, the more time take to fit the model. But, we should consider that by reducing the number of data points we are going to decrease the precesion of our model due to having a smaller training data points. Let's see what is the relation between the number of data points and the accuracy:"
   ]
  },
  {
   "cell_type": "code",
   "execution_count": 20,
   "metadata": {},
   "outputs": [
    {
     "data": {
      "image/png": "[encoded data removed]",
      "text/plain": [
       "<Figure size 432x288 with 1 Axes>"
      ]
     },
     "metadata": {
      "needs_background": "light"
     },
     "output_type": "display_data"
    }
   ],
   "source": [
    "plt.figure()\n",
    "plt.plot(total_size, train_accuracy, label = 'Training points')\n",
    "plt.plot(total_size, test_accuracy, label = 'Testing points')\n",
    "plt.title('Relation between the amount of data points and the accuracy')\n",
    "plt.xlabel('number of data points')\n",
    "plt.ylabel('accuracy')\n",
    "plt.legend()\n",
    "plt.grid()\n",
    "plt.show()"
   ]
  },
  {
   "cell_type": "markdown",
   "metadata": {},
   "source": [
    "> As we can see above, while with having lower data points the accuracy of training model is going up, the accuracy of testing model is going down so we can say that by having from 5000 to around 17000 of data points, we don't get a good accuracy. In this range, our model may become overfit or underfit."
   ]
  },
  {
   "cell_type": "markdown",
   "metadata": {},
   "source": [
    "## c)  Pros and Cons\n",
    "List one advantage and disadvantage of reducing dimensionality. List one advantage and disadvantage of reducing the number of data points."
   ]
  },
  {
   "cell_type": "markdown",
   "metadata": {},
   "source": [
    ">By reducing dimensionality, computation time will decrease, but in terms of the amount of n_component we see the different amount in accuracy.\n",
    "\n",
    ">We saw that by decreasing the amount of data points, computation time has reduced. But, if we are going to have data points below the specific amount, our model may become overfit or underfit."
   ]
  },
  {
   "cell_type": "markdown",
   "metadata": {},
   "source": [
    "# Part 3\n",
    "\n",
    "## KNN  Classifier\n",
    ">Train two KNN classifiers to model the data: one where K=1 and one where K=the number of training points. For each model, evaluate its accuracy on the training set and on the test set."
   ]
  },
  {
   "cell_type": "code",
   "execution_count": 21,
   "metadata": {},
   "outputs": [],
   "source": [
    "from sklearn.metrics import accuracy_score\n",
    "from sklearn.neighbors import KNeighborsClassifier"
   ]
  },
  {
   "cell_type": "markdown",
   "metadata": {},
   "source": [
    "> First, we are trying to fit the model and test some different K value on 10 percent of the total data points (3500 data points instead 35000) to see the differences, because it may take a long time to fit the total number of data points. So, our X and y would change:"
   ]
  },
  {
   "cell_type": "code",
   "execution_count": 22,
   "metadata": {},
   "outputs": [],
   "source": [
    "X_new = mnist_csv[:3499, :-1]\n",
    "y_new = mnist_csv[:3499, -1]\n",
    "\n",
    "# Split into training & test sets\n",
    "X_train, X_test, y_train, y_test = train_test_split(X_new, y_new, test_size=0.4, stratify = y_new)"
   ]
  },
  {
   "cell_type": "markdown",
   "metadata": {},
   "source": [
    "> We are going to set the K to 1 and see the results:"
   ]
  },
  {
   "cell_type": "code",
   "execution_count": 23,
   "metadata": {},
   "outputs": [
    {
     "name": "stdout",
     "output_type": "stream",
     "text": [
      "The accuracy of the train score with 10% of data points and k = 1:  1.0\n",
      "The accuracy of the test score with 10% of data points and k = 1:  0.9178571428571428\n"
     ]
    }
   ],
   "source": [
    "knn_model = KNeighborsClassifier(n_neighbors = 1)\n",
    "knn_model.fit(X_train, y_train)\n",
    "train_score = knn_model.score(X_train, y_train)\n",
    "test_score = knn_model.score(X_test, y_test)\n",
    "\n",
    "print(\"The accuracy of the train score with 10% of data points and k = 1: \", train_score)\n",
    "print(\"The accuracy of the test score with 10% of data points and k = 1: \", test_score)"
   ]
  },
  {
   "cell_type": "code",
   "execution_count": 24,
   "metadata": {},
   "outputs": [
    {
     "name": "stdout",
     "output_type": "stream",
     "text": [
      "The accuracy of the train score with 10% of data points and k = the number of training points:  0.10862315388280133\n",
      "The accuracy of the test score with 10% of data points and k = the number of training points:  0.10857142857142857\n"
     ]
    }
   ],
   "source": [
    "knn_model = KNeighborsClassifier(n_neighbors = len(y_train))\n",
    "knn_model.fit(X_train, y_train)\n",
    "train_score = knn_model.score(X_train, y_train)\n",
    "test_score = knn_model.score(X_test, y_test)\n",
    "\n",
    "print(\"The accuracy of the train score with 10% of data points and k = the number of training points: \", train_score)\n",
    "print(\"The accuracy of the test score with 10% of data points and k = the number of training points: \", test_score)"
   ]
  },
  {
   "cell_type": "markdown",
   "metadata": {},
   "source": [
    "> As we can see above from the results, the accuracy of training model when k = 1 is 100% which is expected, and the accuracy of test model is pretty good which is almost 90%, but this scenario for the model with having the number of training points for k, is really bad we have 10% of accuracy. This was expected, because the model trying to find all distances from a point to all the data points so the accuracy would get low. "
   ]
  },
  {
   "cell_type": "markdown",
   "metadata": {},
   "source": [
    "##  The best K\n",
    ">Based on your results from Question 3a, try to find an ideal number of neighbors for your KNN classifier. For each value of K that you explore, evaluate the accuracy of the model on the training set and on the test set. What seems to be an ideal value for K, and why is it ideal? (Note: This will take a long time computationally."
   ]
  },
  {
   "cell_type": "markdown",
   "metadata": {},
   "source": [
    ">>Before going to choose the best K value, we are going to test some random value for K and see the accuracy of both train and test to get an idea that what happend if we have high value for K in KNN model. Before, we saw that by setting the K value to the number of training points, we got low accuracy."
   ]
  },
  {
   "cell_type": "code",
   "execution_count": 25,
   "metadata": {},
   "outputs": [
    {
     "name": "stdout",
     "output_type": "stream",
     "text": [
      "1000\r"
     ]
    },
    {
     "data": {
      "text/html": [
       "<div>\n",
       "<style scoped>\n",
       "    .dataframe tbody tr th:only-of-type {\n",
       "        vertical-align: middle;\n",
       "    }\n",
       "\n",
       "    .dataframe tbody tr th {\n",
       "        vertical-align: top;\n",
       "    }\n",
       "\n",
       "    .dataframe thead th {\n",
       "        text-align: right;\n",
       "    }\n",
       "</style>\n",
       "<table border=\"1\" class=\"dataframe\">\n",
       "  <thead>\n",
       "    <tr style=\"text-align: right;\">\n",
       "      <th></th>\n",
       "      <th>k</th>\n",
       "      <th>Training Accuracy</th>\n",
       "      <th>Test Accuracy</th>\n",
       "    </tr>\n",
       "  </thead>\n",
       "  <tbody>\n",
       "    <tr>\n",
       "      <td>0</td>\n",
       "      <td>10</td>\n",
       "      <td>0.912339</td>\n",
       "      <td>0.898571</td>\n",
       "    </tr>\n",
       "    <tr>\n",
       "      <td>1</td>\n",
       "      <td>50</td>\n",
       "      <td>0.846594</td>\n",
       "      <td>0.844286</td>\n",
       "    </tr>\n",
       "    <tr>\n",
       "      <td>2</td>\n",
       "      <td>100</td>\n",
       "      <td>0.787994</td>\n",
       "      <td>0.787143</td>\n",
       "    </tr>\n",
       "    <tr>\n",
       "      <td>3</td>\n",
       "      <td>150</td>\n",
       "      <td>0.745593</td>\n",
       "      <td>0.745000</td>\n",
       "    </tr>\n",
       "    <tr>\n",
       "      <td>4</td>\n",
       "      <td>200</td>\n",
       "      <td>0.707956</td>\n",
       "      <td>0.722143</td>\n",
       "    </tr>\n",
       "    <tr>\n",
       "      <td>5</td>\n",
       "      <td>250</td>\n",
       "      <td>0.671272</td>\n",
       "      <td>0.691429</td>\n",
       "    </tr>\n",
       "    <tr>\n",
       "      <td>6</td>\n",
       "      <td>300</td>\n",
       "      <td>0.656503</td>\n",
       "      <td>0.667857</td>\n",
       "    </tr>\n",
       "    <tr>\n",
       "      <td>7</td>\n",
       "      <td>350</td>\n",
       "      <td>0.629347</td>\n",
       "      <td>0.645714</td>\n",
       "    </tr>\n",
       "    <tr>\n",
       "      <td>8</td>\n",
       "      <td>400</td>\n",
       "      <td>0.608385</td>\n",
       "      <td>0.627857</td>\n",
       "    </tr>\n",
       "    <tr>\n",
       "      <td>9</td>\n",
       "      <td>450</td>\n",
       "      <td>0.588375</td>\n",
       "      <td>0.585714</td>\n",
       "    </tr>\n",
       "    <tr>\n",
       "      <td>10</td>\n",
       "      <td>500</td>\n",
       "      <td>0.560267</td>\n",
       "      <td>0.558571</td>\n",
       "    </tr>\n",
       "    <tr>\n",
       "      <td>11</td>\n",
       "      <td>550</td>\n",
       "      <td>0.543592</td>\n",
       "      <td>0.538571</td>\n",
       "    </tr>\n",
       "    <tr>\n",
       "      <td>12</td>\n",
       "      <td>600</td>\n",
       "      <td>0.512625</td>\n",
       "      <td>0.512143</td>\n",
       "    </tr>\n",
       "    <tr>\n",
       "      <td>13</td>\n",
       "      <td>650</td>\n",
       "      <td>0.491186</td>\n",
       "      <td>0.484286</td>\n",
       "    </tr>\n",
       "    <tr>\n",
       "      <td>14</td>\n",
       "      <td>700</td>\n",
       "      <td>0.469747</td>\n",
       "      <td>0.471429</td>\n",
       "    </tr>\n",
       "    <tr>\n",
       "      <td>15</td>\n",
       "      <td>750</td>\n",
       "      <td>0.447356</td>\n",
       "      <td>0.455714</td>\n",
       "    </tr>\n",
       "    <tr>\n",
       "      <td>16</td>\n",
       "      <td>800</td>\n",
       "      <td>0.433063</td>\n",
       "      <td>0.441429</td>\n",
       "    </tr>\n",
       "    <tr>\n",
       "      <td>17</td>\n",
       "      <td>900</td>\n",
       "      <td>0.396379</td>\n",
       "      <td>0.404286</td>\n",
       "    </tr>\n",
       "    <tr>\n",
       "      <td>18</td>\n",
       "      <td>950</td>\n",
       "      <td>0.381134</td>\n",
       "      <td>0.381429</td>\n",
       "    </tr>\n",
       "    <tr>\n",
       "      <td>19</td>\n",
       "      <td>1000</td>\n",
       "      <td>0.361601</td>\n",
       "      <td>0.357857</td>\n",
       "    </tr>\n",
       "  </tbody>\n",
       "</table>\n",
       "</div>"
      ],
      "text/plain": [
       "       k  Training Accuracy  Test Accuracy\n",
       "0     10           0.912339       0.898571\n",
       "1     50           0.846594       0.844286\n",
       "2    100           0.787994       0.787143\n",
       "3    150           0.745593       0.745000\n",
       "4    200           0.707956       0.722143\n",
       "5    250           0.671272       0.691429\n",
       "6    300           0.656503       0.667857\n",
       "7    350           0.629347       0.645714\n",
       "8    400           0.608385       0.627857\n",
       "9    450           0.588375       0.585714\n",
       "10   500           0.560267       0.558571\n",
       "11   550           0.543592       0.538571\n",
       "12   600           0.512625       0.512143\n",
       "13   650           0.491186       0.484286\n",
       "14   700           0.469747       0.471429\n",
       "15   750           0.447356       0.455714\n",
       "16   800           0.433063       0.441429\n",
       "17   900           0.396379       0.404286\n",
       "18   950           0.381134       0.381429\n",
       "19  1000           0.361601       0.357857"
      ]
     },
     "execution_count": 25,
     "metadata": {},
     "output_type": "execute_result"
    }
   ],
   "source": [
    "neighbors = [10, 50, 100, 150, 200, 250, 300, 350, 400, 450, 500, 550, 600, 650, 700, 750, 800, 900, 950, 1000]\n",
    "trains = []\n",
    "tests = []\n",
    "\n",
    "for k in neighbors:\n",
    "    knn_model = KNeighborsClassifier(n_neighbors = k)\n",
    "    knn_model.fit(X_train, y_train)\n",
    "    trains.append(knn_model.score(X_train, y_train))\n",
    "    tests.append(knn_model.score(X_test, y_test))\n",
    "    print(k, end = '\\r')\n",
    "df = pd.DataFrame({'k': neighbors,\n",
    "              'Training Accuracy': trains,\n",
    "              'Test Accuracy': tests})\n",
    "df.head(20)"
   ]
  },
  {
   "cell_type": "code",
   "execution_count": 26,
   "metadata": {},
   "outputs": [
    {
     "data": {
      "image/png": "[encoded data removed]",
      "text/plain": [
       "<Figure size 432x288 with 1 Axes>"
      ]
     },
     "metadata": {
      "needs_background": "light"
     },
     "output_type": "display_data"
    }
   ],
   "source": [
    "plt.figure()\n",
    "plt.title('Accuracy trends on changing K values')\n",
    "plt.plot(df['k'], df['Training Accuracy'], label = 'Training points')\n",
    "plt.plot(df['k'], df['Test Accuracy'], label = 'Test points')\n",
    "plt.xlabel('K value')\n",
    "plt.ylabel('Accuracy')\n",
    "plt.legend()\n",
    "plt.show()"
   ]
  },
  {
   "cell_type": "markdown",
   "metadata": {},
   "source": [
    "> By looking at the line graph above, we can see that the trends of training and testing points are similar which is great. Also, by increasing the number of neighbors the accuracy is getting worst. We can say that by defining our KNN model with 10 neighbors, we can get the best accuracy on both training and testing points. "
   ]
  },
  {
   "cell_type": "markdown",
   "metadata": {},
   "source": [
    "## Desicion Tree\n",
    ">Build another model to predict which digit is written, this time using a decision tree. Instead of controlling for the K-value, control for the depth of the tree. Document your model-fitting and model-evaluation process clearly."
   ]
  },
  {
   "cell_type": "code",
   "execution_count": 27,
   "metadata": {},
   "outputs": [],
   "source": [
    "from sklearn.tree import DecisionTreeClassifier"
   ]
  },
  {
   "cell_type": "code",
   "execution_count": 28,
   "metadata": {},
   "outputs": [
    {
     "data": {
      "text/html": [
       "<div>\n",
       "<style scoped>\n",
       "    .dataframe tbody tr th:only-of-type {\n",
       "        vertical-align: middle;\n",
       "    }\n",
       "\n",
       "    .dataframe tbody tr th {\n",
       "        vertical-align: top;\n",
       "    }\n",
       "\n",
       "    .dataframe thead th {\n",
       "        text-align: right;\n",
       "    }\n",
       "</style>\n",
       "<table border=\"1\" class=\"dataframe\">\n",
       "  <thead>\n",
       "    <tr style=\"text-align: right;\">\n",
       "      <th></th>\n",
       "      <th>Max Depth</th>\n",
       "      <th>Training Accuracy</th>\n",
       "      <th>Test Accuracy</th>\n",
       "    </tr>\n",
       "  </thead>\n",
       "  <tbody>\n",
       "    <tr>\n",
       "      <td>0</td>\n",
       "      <td>1</td>\n",
       "      <td>0.202954</td>\n",
       "      <td>0.199286</td>\n",
       "    </tr>\n",
       "    <tr>\n",
       "      <td>1</td>\n",
       "      <td>2</td>\n",
       "      <td>0.328252</td>\n",
       "      <td>0.320714</td>\n",
       "    </tr>\n",
       "    <tr>\n",
       "      <td>2</td>\n",
       "      <td>3</td>\n",
       "      <td>0.470700</td>\n",
       "      <td>0.445000</td>\n",
       "    </tr>\n",
       "    <tr>\n",
       "      <td>3</td>\n",
       "      <td>4</td>\n",
       "      <td>0.637446</td>\n",
       "      <td>0.606429</td>\n",
       "    </tr>\n",
       "    <tr>\n",
       "      <td>4</td>\n",
       "      <td>5</td>\n",
       "      <td>0.728442</td>\n",
       "      <td>0.662143</td>\n",
       "    </tr>\n",
       "    <tr>\n",
       "      <td>5</td>\n",
       "      <td>6</td>\n",
       "      <td>0.788947</td>\n",
       "      <td>0.690714</td>\n",
       "    </tr>\n",
       "    <tr>\n",
       "      <td>6</td>\n",
       "      <td>7</td>\n",
       "      <td>0.850405</td>\n",
       "      <td>0.705714</td>\n",
       "    </tr>\n",
       "    <tr>\n",
       "      <td>7</td>\n",
       "      <td>8</td>\n",
       "      <td>0.906146</td>\n",
       "      <td>0.711429</td>\n",
       "    </tr>\n",
       "    <tr>\n",
       "      <td>8</td>\n",
       "      <td>9</td>\n",
       "      <td>0.948547</td>\n",
       "      <td>0.705000</td>\n",
       "    </tr>\n",
       "    <tr>\n",
       "      <td>9</td>\n",
       "      <td>10</td>\n",
       "      <td>0.978085</td>\n",
       "      <td>0.705714</td>\n",
       "    </tr>\n",
       "    <tr>\n",
       "      <td>10</td>\n",
       "      <td>11</td>\n",
       "      <td>0.990472</td>\n",
       "      <td>0.706429</td>\n",
       "    </tr>\n",
       "    <tr>\n",
       "      <td>11</td>\n",
       "      <td>12</td>\n",
       "      <td>0.996189</td>\n",
       "      <td>0.700000</td>\n",
       "    </tr>\n",
       "    <tr>\n",
       "      <td>12</td>\n",
       "      <td>13</td>\n",
       "      <td>0.998094</td>\n",
       "      <td>0.697857</td>\n",
       "    </tr>\n",
       "    <tr>\n",
       "      <td>13</td>\n",
       "      <td>14</td>\n",
       "      <td>0.998571</td>\n",
       "      <td>0.693571</td>\n",
       "    </tr>\n",
       "    <tr>\n",
       "      <td>14</td>\n",
       "      <td>15</td>\n",
       "      <td>0.999047</td>\n",
       "      <td>0.712857</td>\n",
       "    </tr>\n",
       "    <tr>\n",
       "      <td>15</td>\n",
       "      <td>16</td>\n",
       "      <td>0.999047</td>\n",
       "      <td>0.699286</td>\n",
       "    </tr>\n",
       "    <tr>\n",
       "      <td>16</td>\n",
       "      <td>17</td>\n",
       "      <td>0.999524</td>\n",
       "      <td>0.707143</td>\n",
       "    </tr>\n",
       "    <tr>\n",
       "      <td>17</td>\n",
       "      <td>18</td>\n",
       "      <td>1.000000</td>\n",
       "      <td>0.699286</td>\n",
       "    </tr>\n",
       "    <tr>\n",
       "      <td>18</td>\n",
       "      <td>19</td>\n",
       "      <td>1.000000</td>\n",
       "      <td>0.715000</td>\n",
       "    </tr>\n",
       "    <tr>\n",
       "      <td>19</td>\n",
       "      <td>20</td>\n",
       "      <td>1.000000</td>\n",
       "      <td>0.685714</td>\n",
       "    </tr>\n",
       "    <tr>\n",
       "      <td>20</td>\n",
       "      <td>21</td>\n",
       "      <td>1.000000</td>\n",
       "      <td>0.700714</td>\n",
       "    </tr>\n",
       "    <tr>\n",
       "      <td>21</td>\n",
       "      <td>22</td>\n",
       "      <td>1.000000</td>\n",
       "      <td>0.714286</td>\n",
       "    </tr>\n",
       "    <tr>\n",
       "      <td>22</td>\n",
       "      <td>23</td>\n",
       "      <td>1.000000</td>\n",
       "      <td>0.705714</td>\n",
       "    </tr>\n",
       "    <tr>\n",
       "      <td>23</td>\n",
       "      <td>24</td>\n",
       "      <td>1.000000</td>\n",
       "      <td>0.697857</td>\n",
       "    </tr>\n",
       "    <tr>\n",
       "      <td>24</td>\n",
       "      <td>25</td>\n",
       "      <td>1.000000</td>\n",
       "      <td>0.699286</td>\n",
       "    </tr>\n",
       "    <tr>\n",
       "      <td>25</td>\n",
       "      <td>26</td>\n",
       "      <td>1.000000</td>\n",
       "      <td>0.696429</td>\n",
       "    </tr>\n",
       "    <tr>\n",
       "      <td>26</td>\n",
       "      <td>27</td>\n",
       "      <td>1.000000</td>\n",
       "      <td>0.705000</td>\n",
       "    </tr>\n",
       "    <tr>\n",
       "      <td>27</td>\n",
       "      <td>28</td>\n",
       "      <td>1.000000</td>\n",
       "      <td>0.705714</td>\n",
       "    </tr>\n",
       "    <tr>\n",
       "      <td>28</td>\n",
       "      <td>29</td>\n",
       "      <td>1.000000</td>\n",
       "      <td>0.692857</td>\n",
       "    </tr>\n",
       "    <tr>\n",
       "      <td>29</td>\n",
       "      <td>30</td>\n",
       "      <td>1.000000</td>\n",
       "      <td>0.709286</td>\n",
       "    </tr>\n",
       "    <tr>\n",
       "      <td>30</td>\n",
       "      <td>31</td>\n",
       "      <td>1.000000</td>\n",
       "      <td>0.702857</td>\n",
       "    </tr>\n",
       "    <tr>\n",
       "      <td>31</td>\n",
       "      <td>32</td>\n",
       "      <td>1.000000</td>\n",
       "      <td>0.700000</td>\n",
       "    </tr>\n",
       "    <tr>\n",
       "      <td>32</td>\n",
       "      <td>33</td>\n",
       "      <td>1.000000</td>\n",
       "      <td>0.686429</td>\n",
       "    </tr>\n",
       "    <tr>\n",
       "      <td>33</td>\n",
       "      <td>34</td>\n",
       "      <td>1.000000</td>\n",
       "      <td>0.706429</td>\n",
       "    </tr>\n",
       "    <tr>\n",
       "      <td>34</td>\n",
       "      <td>35</td>\n",
       "      <td>1.000000</td>\n",
       "      <td>0.692857</td>\n",
       "    </tr>\n",
       "    <tr>\n",
       "      <td>35</td>\n",
       "      <td>36</td>\n",
       "      <td>1.000000</td>\n",
       "      <td>0.715000</td>\n",
       "    </tr>\n",
       "    <tr>\n",
       "      <td>36</td>\n",
       "      <td>37</td>\n",
       "      <td>1.000000</td>\n",
       "      <td>0.701429</td>\n",
       "    </tr>\n",
       "    <tr>\n",
       "      <td>37</td>\n",
       "      <td>38</td>\n",
       "      <td>1.000000</td>\n",
       "      <td>0.705714</td>\n",
       "    </tr>\n",
       "    <tr>\n",
       "      <td>38</td>\n",
       "      <td>39</td>\n",
       "      <td>1.000000</td>\n",
       "      <td>0.701429</td>\n",
       "    </tr>\n",
       "    <tr>\n",
       "      <td>39</td>\n",
       "      <td>40</td>\n",
       "      <td>1.000000</td>\n",
       "      <td>0.703571</td>\n",
       "    </tr>\n",
       "    <tr>\n",
       "      <td>40</td>\n",
       "      <td>41</td>\n",
       "      <td>1.000000</td>\n",
       "      <td>0.703571</td>\n",
       "    </tr>\n",
       "    <tr>\n",
       "      <td>41</td>\n",
       "      <td>42</td>\n",
       "      <td>1.000000</td>\n",
       "      <td>0.706429</td>\n",
       "    </tr>\n",
       "    <tr>\n",
       "      <td>42</td>\n",
       "      <td>43</td>\n",
       "      <td>1.000000</td>\n",
       "      <td>0.708571</td>\n",
       "    </tr>\n",
       "    <tr>\n",
       "      <td>43</td>\n",
       "      <td>44</td>\n",
       "      <td>1.000000</td>\n",
       "      <td>0.704286</td>\n",
       "    </tr>\n",
       "    <tr>\n",
       "      <td>44</td>\n",
       "      <td>45</td>\n",
       "      <td>1.000000</td>\n",
       "      <td>0.720000</td>\n",
       "    </tr>\n",
       "    <tr>\n",
       "      <td>45</td>\n",
       "      <td>46</td>\n",
       "      <td>1.000000</td>\n",
       "      <td>0.705000</td>\n",
       "    </tr>\n",
       "    <tr>\n",
       "      <td>46</td>\n",
       "      <td>47</td>\n",
       "      <td>1.000000</td>\n",
       "      <td>0.708571</td>\n",
       "    </tr>\n",
       "    <tr>\n",
       "      <td>47</td>\n",
       "      <td>48</td>\n",
       "      <td>1.000000</td>\n",
       "      <td>0.710714</td>\n",
       "    </tr>\n",
       "    <tr>\n",
       "      <td>48</td>\n",
       "      <td>49</td>\n",
       "      <td>1.000000</td>\n",
       "      <td>0.690000</td>\n",
       "    </tr>\n",
       "  </tbody>\n",
       "</table>\n",
       "</div>"
      ],
      "text/plain": [
       "    Max Depth  Training Accuracy  Test Accuracy\n",
       "0           1           0.202954       0.199286\n",
       "1           2           0.328252       0.320714\n",
       "2           3           0.470700       0.445000\n",
       "3           4           0.637446       0.606429\n",
       "4           5           0.728442       0.662143\n",
       "5           6           0.788947       0.690714\n",
       "6           7           0.850405       0.705714\n",
       "7           8           0.906146       0.711429\n",
       "8           9           0.948547       0.705000\n",
       "9          10           0.978085       0.705714\n",
       "10         11           0.990472       0.706429\n",
       "11         12           0.996189       0.700000\n",
       "12         13           0.998094       0.697857\n",
       "13         14           0.998571       0.693571\n",
       "14         15           0.999047       0.712857\n",
       "15         16           0.999047       0.699286\n",
       "16         17           0.999524       0.707143\n",
       "17         18           1.000000       0.699286\n",
       "18         19           1.000000       0.715000\n",
       "19         20           1.000000       0.685714\n",
       "20         21           1.000000       0.700714\n",
       "21         22           1.000000       0.714286\n",
       "22         23           1.000000       0.705714\n",
       "23         24           1.000000       0.697857\n",
       "24         25           1.000000       0.699286\n",
       "25         26           1.000000       0.696429\n",
       "26         27           1.000000       0.705000\n",
       "27         28           1.000000       0.705714\n",
       "28         29           1.000000       0.692857\n",
       "29         30           1.000000       0.709286\n",
       "30         31           1.000000       0.702857\n",
       "31         32           1.000000       0.700000\n",
       "32         33           1.000000       0.686429\n",
       "33         34           1.000000       0.706429\n",
       "34         35           1.000000       0.692857\n",
       "35         36           1.000000       0.715000\n",
       "36         37           1.000000       0.701429\n",
       "37         38           1.000000       0.705714\n",
       "38         39           1.000000       0.701429\n",
       "39         40           1.000000       0.703571\n",
       "40         41           1.000000       0.703571\n",
       "41         42           1.000000       0.706429\n",
       "42         43           1.000000       0.708571\n",
       "43         44           1.000000       0.704286\n",
       "44         45           1.000000       0.720000\n",
       "45         46           1.000000       0.705000\n",
       "46         47           1.000000       0.708571\n",
       "47         48           1.000000       0.710714\n",
       "48         49           1.000000       0.690000"
      ]
     },
     "execution_count": 28,
     "metadata": {},
     "output_type": "execute_result"
    }
   ],
   "source": [
    "acc_train = []\n",
    "acc_test = []\n",
    "max_depth = list(range(1,50))\n",
    "\n",
    "for n in max_depth:\n",
    "    tree_model = DecisionTreeClassifier(max_depth=n)\n",
    "    tree_model.fit(X_train, y_train)\n",
    "    acc_train.append(tree_model.score(X_train, y_train))\n",
    "    acc_test.append(tree_model.score(X_test, y_test))\n",
    "    \n",
    "df = pd.DataFrame({'Max Depth': max_depth,\n",
    "                   'Training Accuracy': acc_train,\n",
    "                   'Test Accuracy': acc_test})\n",
    "df.head(50)"
   ]
  },
  {
   "cell_type": "code",
   "execution_count": 29,
   "metadata": {},
   "outputs": [
    {
     "data": {
      "image/png": "[encoded data removed]",
      "text/plain": [
       "<Figure size 432x288 with 1 Axes>"
      ]
     },
     "metadata": {
      "needs_background": "light"
     },
     "output_type": "display_data"
    }
   ],
   "source": [
    "plt.figure()\n",
    "plt.plot(df['Max Depth'], df['Training Accuracy'], label = 'Test Accuracy')\n",
    "plt.plot(df['Max Depth'], df['Test Accuracy'], label = 'Test points')\n",
    "plt.xlabel('Max Depth')\n",
    "plt.ylabel('Accuracy')\n",
    "plt.legend()\n",
    "plt.axvline(x=10, c = 'red')\n",
    "plt.show()"
   ]
  },
  {
   "cell_type": "markdown",
   "metadata": {},
   "source": [
    "> By looking at the line graph above, we can see that at the point that we have our max depth at 10, test accuracy were starting to be in the highest accuracy. Also, test accuracy is going up. At this point we have the highest accuracy on testing points.\n"
   ]
  },
  {
   "cell_type": "markdown",
   "metadata": {},
   "source": [
    "# Part 4"
   ]
  },
  {
   "cell_type": "markdown",
   "metadata": {},
   "source": [
    "## 5-fold Cross-validation\n",
    ">Fit a logistic regression model and use 5-fold cross-validation to optimize its hyperparameters. For each hyperparameter that you’re tuning, describe what it controls in your model. What are the optimal hyperparameters that you found?"
   ]
  },
  {
   "cell_type": "markdown",
   "metadata": {},
   "source": [
    ">>First, using some different values for 'c' hyperparameter to find the optimized one."
   ]
  },
  {
   "cell_type": "code",
   "execution_count": 30,
   "metadata": {},
   "outputs": [],
   "source": [
    "from sklearn.model_selection import cross_val_score"
   ]
  },
  {
   "cell_type": "code",
   "execution_count": 31,
   "metadata": {},
   "outputs": [
    {
     "name": "stderr",
     "output_type": "stream",
     "text": [
      "C:\\Users\\User\\Anaconda3\\lib\\site-packages\\sklearn\\linear_model\\logistic.py:947: ConvergenceWarning: lbfgs failed to converge. Increase the number of iterations.\n",
      "  \"of iterations.\", ConvergenceWarning)\n",
      "C:\\Users\\User\\Anaconda3\\lib\\site-packages\\sklearn\\linear_model\\logistic.py:947: ConvergenceWarning: lbfgs failed to converge. Increase the number of iterations.\n",
      "  \"of iterations.\", ConvergenceWarning)\n",
      "C:\\Users\\User\\Anaconda3\\lib\\site-packages\\sklearn\\linear_model\\logistic.py:947: ConvergenceWarning: lbfgs failed to converge. Increase the number of iterations.\n",
      "  \"of iterations.\", ConvergenceWarning)\n",
      "C:\\Users\\User\\Anaconda3\\lib\\site-packages\\sklearn\\linear_model\\logistic.py:947: ConvergenceWarning: lbfgs failed to converge. Increase the number of iterations.\n",
      "  \"of iterations.\", ConvergenceWarning)\n",
      "C:\\Users\\User\\Anaconda3\\lib\\site-packages\\sklearn\\linear_model\\logistic.py:947: ConvergenceWarning: lbfgs failed to converge. Increase the number of iterations.\n",
      "  \"of iterations.\", ConvergenceWarning)\n",
      "C:\\Users\\User\\Anaconda3\\lib\\site-packages\\sklearn\\linear_model\\logistic.py:947: ConvergenceWarning: lbfgs failed to converge. Increase the number of iterations.\n",
      "  \"of iterations.\", ConvergenceWarning)\n",
      "C:\\Users\\User\\Anaconda3\\lib\\site-packages\\sklearn\\linear_model\\logistic.py:947: ConvergenceWarning: lbfgs failed to converge. Increase the number of iterations.\n",
      "  \"of iterations.\", ConvergenceWarning)\n"
     ]
    }
   ],
   "source": [
    "#Store the results\n",
    "cross_validation_scores = []\n",
    "C_range = [.00001,.0001,.001,.1, 1,10,100,1000,10000]\n",
    "\n",
    "#Do some cross validation\n",
    "for c in C_range:\n",
    "    lr_model = LogisticRegression(solver='lbfgs', multi_class='auto', max_iter = 1000, penalty='l2',\n",
    "                                  C=c,random_state=1)\n",
    "    # the cross validation score (mean of scores from all folds)\n",
    "    cv_score = np.mean(cross_val_score(lr_model, X_train, y_train, cv = 5))\n",
    "    cross_validation_scores.append(cv_score)"
   ]
  },
  {
   "cell_type": "code",
   "execution_count": 32,
   "metadata": {},
   "outputs": [
    {
     "data": {
      "image/png": "[encoded data removed]",
      "text/plain": [
       "<Figure size 432x288 with 1 Axes>"
      ]
     },
     "metadata": {
      "needs_background": "light"
     },
     "output_type": "display_data"
    },
    {
     "name": "stdout",
     "output_type": "stream",
     "text": [
      "The best model has C =  1e-05\n"
     ]
    }
   ],
   "source": [
    "plt.figure()\n",
    "plt.plot(C_range, cross_validation_scores,label=\"Cross Validation Score\",marker='*')\n",
    "plt.legend()\n",
    "plt.xscale(\"log\")\n",
    "plt.xlabel('Regularization Parameter: C')\n",
    "plt.ylabel('Cross Validation Score %')\n",
    "plt.grid()\n",
    "plt.show()\n",
    "which_max = np.array(cross_validation_scores).argmax()\n",
    "\n",
    "print(\"The best model has C = \",C_range[which_max])"
   ]
  },
  {
   "cell_type": "markdown",
   "metadata": {},
   "source": [
    ">>From the line graph above, we can see that the best value for the C parameter is 0.00001 where we have more accuracy in logistic regression using cross validation. Now, with this C we are going to use l1 as a penalty to have a comparison between l1 and l2 to come up with the best penalty for this model."
   ]
  },
  {
   "cell_type": "code",
   "execution_count": 33,
   "metadata": {},
   "outputs": [
    {
     "name": "stdout",
     "output_type": "stream",
     "text": [
      "The tarining accuracy of the logistic regression 5-fold cross-validation model using l1 with C =  0.00001 as a penalty is:  0.2429226527311421\n",
      "The testing accuracy of the logistic regression model using 5-fold cross-validation using l1 with C = 0.00001 as a penalty is:  0.09499449508241883\n"
     ]
    }
   ],
   "source": [
    "lr_model = LogisticRegression(solver='liblinear', multi_class='auto', penalty='l1', C = 0.00001)\n",
    "cv_score_training = np.mean(cross_val_score(lr_model, X_train, y_train, cv = 5))\n",
    "cv_score_testing = np.mean(cross_val_score(lr_model, X_test, y_test, cv = 5))\n",
    "\n",
    "print('The tarining accuracy of the logistic regression 5-fold cross-validation model using l1 with C =  0.00001 as a penalty is: ', cv_score_training)\n",
    "print('The testing accuracy of the logistic regression model using 5-fold cross-validation using l1 with C = 0.00001 as a penalty is: ', cv_score_testing)"
   ]
  },
  {
   "cell_type": "code",
   "execution_count": 34,
   "metadata": {},
   "outputs": [
    {
     "name": "stderr",
     "output_type": "stream",
     "text": [
      "C:\\Users\\User\\Anaconda3\\lib\\site-packages\\sklearn\\linear_model\\logistic.py:469: FutureWarning: Default multi_class will be changed to 'auto' in 0.22. Specify the multi_class option to silence this warning.\n",
      "  \"this warning.\", FutureWarning)\n",
      "C:\\Users\\User\\Anaconda3\\lib\\site-packages\\sklearn\\linear_model\\logistic.py:469: FutureWarning: Default multi_class will be changed to 'auto' in 0.22. Specify the multi_class option to silence this warning.\n",
      "  \"this warning.\", FutureWarning)\n",
      "C:\\Users\\User\\Anaconda3\\lib\\site-packages\\sklearn\\linear_model\\logistic.py:469: FutureWarning: Default multi_class will be changed to 'auto' in 0.22. Specify the multi_class option to silence this warning.\n",
      "  \"this warning.\", FutureWarning)\n",
      "C:\\Users\\User\\Anaconda3\\lib\\site-packages\\sklearn\\linear_model\\logistic.py:469: FutureWarning: Default multi_class will be changed to 'auto' in 0.22. Specify the multi_class option to silence this warning.\n",
      "  \"this warning.\", FutureWarning)\n",
      "C:\\Users\\User\\Anaconda3\\lib\\site-packages\\sklearn\\linear_model\\logistic.py:469: FutureWarning: Default multi_class will be changed to 'auto' in 0.22. Specify the multi_class option to silence this warning.\n",
      "  \"this warning.\", FutureWarning)\n",
      "C:\\Users\\User\\Anaconda3\\lib\\site-packages\\sklearn\\linear_model\\logistic.py:469: FutureWarning: Default multi_class will be changed to 'auto' in 0.22. Specify the multi_class option to silence this warning.\n",
      "  \"this warning.\", FutureWarning)\n",
      "C:\\Users\\User\\Anaconda3\\lib\\site-packages\\sklearn\\linear_model\\logistic.py:469: FutureWarning: Default multi_class will be changed to 'auto' in 0.22. Specify the multi_class option to silence this warning.\n",
      "  \"this warning.\", FutureWarning)\n",
      "C:\\Users\\User\\Anaconda3\\lib\\site-packages\\sklearn\\linear_model\\logistic.py:469: FutureWarning: Default multi_class will be changed to 'auto' in 0.22. Specify the multi_class option to silence this warning.\n",
      "  \"this warning.\", FutureWarning)\n",
      "C:\\Users\\User\\Anaconda3\\lib\\site-packages\\sklearn\\linear_model\\logistic.py:469: FutureWarning: Default multi_class will be changed to 'auto' in 0.22. Specify the multi_class option to silence this warning.\n",
      "  \"this warning.\", FutureWarning)\n",
      "C:\\Users\\User\\Anaconda3\\lib\\site-packages\\sklearn\\linear_model\\logistic.py:469: FutureWarning: Default multi_class will be changed to 'auto' in 0.22. Specify the multi_class option to silence this warning.\n",
      "  \"this warning.\", FutureWarning)\n"
     ]
    },
    {
     "name": "stdout",
     "output_type": "stream",
     "text": [
      "The tarining accuracy of the logistic regression 5-fold cross-validation model using l2 with C =  0.00001 as a penalty is:  0.8647490715791495\n",
      "The testing accuracy of the logistic regression model using 5-fold cross-validation using l2 with C = 0.00001 as a penalty is:  0.877955959501129\n"
     ]
    }
   ],
   "source": [
    "lr_model = LogisticRegression(solver='lbfgs', penalty='l2', C = 0.00001, max_iter = 1000, random_state=1)\n",
    "cv_score_training = np.mean(cross_val_score(lr_model, X_train, y_train, cv = 5))\n",
    "cv_score_testing = np.mean(cross_val_score(lr_model, X_test, y_test, cv = 5))\n",
    "\n",
    "print('The tarining accuracy of the logistic regression 5-fold cross-validation model using l2 with C =  0.00001 as a penalty is: ', cv_score_training)\n",
    "print('The testing accuracy of the logistic regression model using 5-fold cross-validation using l2 with C = 0.00001 as a penalty is: ', cv_score_testing)"
   ]
  },
  {
   "cell_type": "markdown",
   "metadata": {},
   "source": [
    "> >The testing accuracy of the model using l2 as a penalty is pretty better than l1. Which means that we can have a more optimized model using l2 penalty and having C with 0.00001."
   ]
  },
  {
   "cell_type": "markdown",
   "metadata": {},
   "source": [
    "## Confusion Matrix\n",
    ">What does the confusion matrix look like for your best model?"
   ]
  },
  {
   "cell_type": "code",
   "execution_count": 35,
   "metadata": {},
   "outputs": [],
   "source": [
    "from sklearn.metrics import confusion_matrix\n",
    "import seaborn as sns"
   ]
  },
  {
   "cell_type": "code",
   "execution_count": 36,
   "metadata": {},
   "outputs": [
    {
     "name": "stderr",
     "output_type": "stream",
     "text": [
      "C:\\Users\\User\\Anaconda3\\lib\\site-packages\\sklearn\\linear_model\\logistic.py:469: FutureWarning: Default multi_class will be changed to 'auto' in 0.22. Specify the multi_class option to silence this warning.\n",
      "  \"this warning.\", FutureWarning)\n"
     ]
    }
   ],
   "source": [
    "lr_model.fit(X_train, y_train)\n",
    "y_pred = lr_model.predict(X_test)\n",
    "\n",
    "co_matrix = confusion_matrix(y_test, y_pred)"
   ]
  },
  {
   "cell_type": "code",
   "execution_count": 37,
   "metadata": {},
   "outputs": [
    {
     "data": {
      "image/png": "[encoded data removed]",
      "text/plain": [
       "<Figure size 720x720 with 2 Axes>"
      ]
     },
     "metadata": {
      "needs_background": "light"
     },
     "output_type": "display_data"
    }
   ],
   "source": [
    "plt.figure(figsize = (10, 10));\n",
    "ax = sns.heatmap(co_matrix, annot = True, fmt = '.2f', vmax = 65, linewidths = 1, square = True, cmap = 'RdPu');\n",
    "plt.xlabel('Predicted Value');\n",
    "plt.ylabel('Actual Value');\n",
    "plt.title(f\"Accuracy score on testing data: {cv_score_testing : 0.3}\", size = 15)\n",
    "bottom, top = ax.get_ylim();\n",
    "ax.set_ylim(bottom + 0.5, top - 0.5);"
   ]
  },
  {
   "cell_type": "markdown",
   "metadata": {},
   "source": [
    ">In heatmap, y axis shows the actual labels and x axis shows the predicted labels. The diagonal tells us the number of each labels (from 0 to 9) that correctly predicted. Most 1s are predicted correctly than the other numbers. Three pairs of numbers are predicted most wrongly which are 4s and 9s, 3s and 5s, and 7s and 9s.\n",
    "It seems that 9s are most difficult to predict."
   ]
  },
  {
   "cell_type": "markdown",
   "metadata": {},
   "source": [
    "# Re-fit a linear model that can discriminate between the digit 4 and the digit 9"
   ]
  },
  {
   "cell_type": "markdown",
   "metadata": {},
   "source": [
    " >To fit the model on 4s and 9s, we need a dataset consists of just 4s and 9s. We are going to make a new dataframe, and define our classes and features (new X and y):"
   ]
  },
  {
   "cell_type": "code",
   "execution_count": 38,
   "metadata": {},
   "outputs": [],
   "source": [
    "mnist_df_4s = mnist_df[mnist_df[784] == 4.0]\n",
    "mnist_df_9s = mnist_df[mnist_df[784] == 9.0]"
   ]
  },
  {
   "cell_type": "code",
   "execution_count": 39,
   "metadata": {},
   "outputs": [],
   "source": [
    "mnist_df_4s9s = mnist_df_4s.append(mnist_df_9s)"
   ]
  },
  {
   "cell_type": "code",
   "execution_count": 40,
   "metadata": {},
   "outputs": [],
   "source": [
    "mnist_4s9s = mnist_df_4s9s.values"
   ]
  },
  {
   "cell_type": "code",
   "execution_count": 41,
   "metadata": {},
   "outputs": [],
   "source": [
    "X4s9s = mnist_4s9s[:, :-1]\n",
    "y4s9s = mnist_4s9s[:, -1]\n",
    "X_train, X_test, y_train, y_test = train_test_split(X4s9s, y4s9s, test_size=0.4, stratify = y4s9s)"
   ]
  },
  {
   "cell_type": "code",
   "execution_count": 42,
   "metadata": {},
   "outputs": [
    {
     "name": "stdout",
     "output_type": "stream",
     "text": [
      "Accuracy score on training data: 0.9791059280855199\n",
      "Accuracy score on testing data: 0.967930029154519\n"
     ]
    },
    {
     "name": "stderr",
     "output_type": "stream",
     "text": [
      "C:\\Users\\User\\Anaconda3\\lib\\site-packages\\sklearn\\linear_model\\logistic.py:947: ConvergenceWarning: lbfgs failed to converge. Increase the number of iterations.\n",
      "  \"of iterations.\", ConvergenceWarning)\n"
     ]
    }
   ],
   "source": [
    "lr_model_4s9s = LogisticRegression(solver='lbfgs', penalty='l2', C = 0.00001, random_state=1)\n",
    "lr_model_4s9s = lr_model_4s9s.fit(X_train, y_train)\n",
    "\n",
    "# We do not really care about the accuracy of this model, but just in case:\n",
    "print('Accuracy score on training data:', lr_model_4s9s.score(X_train, y_train))\n",
    "print('Accuracy score on testing data:', lr_model_4s9s.score(X_test, y_test))"
   ]
  },
  {
   "cell_type": "code",
   "execution_count": 43,
   "metadata": {},
   "outputs": [
    {
     "data": {
      "text/plain": [
       "<matplotlib.image.AxesImage at 0x1815a085c08>"
      ]
     },
     "execution_count": 43,
     "metadata": {},
     "output_type": "execute_result"
    },
    {
     "data": {
      "image/png": "[encoded data removed]",
      "text/plain": [
       "<Figure size 432x288 with 1 Axes>"
      ]
     },
     "metadata": {
      "needs_background": "light"
     },
     "output_type": "display_data"
    }
   ],
   "source": [
    "plt.imshow(lr_model_4s9s.coef_.reshape(28,28), cmap='RdPu')"
   ]
  },
  {
   "cell_type": "markdown",
   "metadata": {},
   "source": [
    "> In the picture above, the darker area shows the higher value for coefficients of our model. It seems that these areas have more effect to distinguish 9s and 4s (above-centre and bottom of the 4s and 9s)."
   ]
  }
 ],
 "metadata": {
  "kernelspec": {
   "display_name": "Python 3",
   "language": "python",
   "name": "python3"
  },
  "language_info": {
   "codemirror_mode": {
    "name": "ipython",
    "version": 3
   },
   "file_extension": ".py",
   "mimetype": "text/x-python",
   "name": "python",
   "nbconvert_exporter": "python",
   "pygments_lexer": "ipython3",
   "version": "3.7.4"
  },
  "toc": {
   "base_numbering": 1,
   "nav_menu": {},
   "number_sections": false,
   "sideBar": true,
   "skip_h1_title": false,
   "title_cell": "Table of Contents",
   "title_sidebar": "Contents",
   "toc_cell": false,
   "toc_position": {
    "height": "calc(100% - 180px)",
    "left": "10px",
    "top": "150px",
    "width": "284.433px"
   },
   "toc_section_display": true,
   "toc_window_display": true
  }
 },
 "nbformat": 4,
 "nbformat_minor": 2
}
